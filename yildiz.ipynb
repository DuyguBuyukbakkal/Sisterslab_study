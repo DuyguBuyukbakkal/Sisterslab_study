{
 "cells": [
  {
   "cell_type": "code",
   "execution_count": null,
   "metadata": {},
   "outputs": [],
   "source": [
    "rows = 5\n",
    "print(\"solution with nested for\")\n",
    "for i in range(0, rows):\n",
    "    for j in range(0, i + 1):\n",
    "        print(\"*\", end=\"\")\n",
    "    print()\n",
    "\n",
    "print(\"\\nsolution with one for\")\n",
    "for i in range(1, rows+1):\n",
    "    print (\"*\" * i)"
   ]
  },
  {
   "cell_type": "code",
   "execution_count": null,
   "metadata": {},
   "outputs": [],
   "source": [
    "rows = 5\n",
    "print(\"solution with nested for\")\n",
    "for i in range(rows, 0, -1):\n",
    "    for j in range(0, i):\n",
    "        print(\"*\", end=\"\")\n",
    "    print()\n",
    "\n",
    "print(\"\\nsolution with one for\")\n",
    "for i in range(rows, 0, -1):\n",
    "    print (\"*\" * i)"
   ]
  },
  {
   "cell_type": "code",
   "execution_count": null,
   "metadata": {},
   "outputs": [],
   "source": [
    "rows = 5\n",
    "print(\"solution with nested for\")\n",
    "for i in range(0, rows):\n",
    "  for j in range(0, i+1):\n",
    "    if j == 0:\n",
    "      print(\" \"* (rows-i) + \"*\", end=\"\")\n",
    "    else:\n",
    "      print(\"*\", end=\"\")\n",
    "  print()\n",
    "\n",
    "print(\"\\nsolution with one for\")\n",
    "for i in range(1, rows+1):\n",
    "  print(\" \"* (rows-i) + \"*\"*i)"
   ]
  },
  {
   "cell_type": "code",
   "execution_count": null,
   "metadata": {},
   "outputs": [],
   "source": [
    "rows = 5\n",
    "print(\"solution with nested for\")\n",
    "for i in range(rows, 0, -1):\n",
    "  for j in range(0, i):\n",
    "    if j == 0:\n",
    "      print(\" \"* (rows-i) + \"*\", end=\"\")\n",
    "    else:\n",
    "      print(\"*\", end=\"\")\n",
    "  print()\n",
    "\n",
    "print(\"\\nsolution with one for\")\n",
    "for i in range(rows, 0, -1):\n",
    "  print(\" \"* (rows-i) + \"*\"*i)"
   ]
  },
  {
   "cell_type": "code",
   "execution_count": null,
   "metadata": {},
   "outputs": [],
   "source": [
    "rows = 5\n",
    "print(\"solution with nested for\")\n",
    "for i in range(0, rows):\n",
    "  for j in range(0, i+1):\n",
    "    if j == 0:\n",
    "      print(\" \"* (rows-i) + \"*\"*2, end=\"\")\n",
    "    else:\n",
    "      print(\"*\"*2, end=\"\")\n",
    "  print()\n",
    "\n",
    "print(\"\\nsolution with one for\")\n",
    "for i in range(1, rows+1):\n",
    "  print(\" \"* (rows-i) + \"*\"*i*2)"
   ]
  },
  {
   "cell_type": "code",
   "execution_count": null,
   "metadata": {},
   "outputs": [],
   "source": [
    "rows = 5\n",
    "print(\"solution with nested for\")\n",
    "for i in range(rows, 0, -1):\n",
    "  for j in range(0, i):\n",
    "    if j == 0:\n",
    "      print(\" \"* (rows-i) + \"*\"*2, end=\"\")\n",
    "    else:\n",
    "      print(\"*\"*2, end=\"\")\n",
    "  print()\n",
    "\n",
    "print(\"\\nsolution with one for\")\n",
    "for i in range(rows, 0, -1):\n",
    "  print(\" \"* (rows-i) + \"*\"*i*2)"
   ]
  },
  {
   "cell_type": "code",
   "execution_count": null,
   "metadata": {},
   "outputs": [],
   "source": [
    "rows = 5\n",
    "print(\"\\nsolution with one for\")\n",
    "for i in range(1, rows+1):\n",
    "  print(\"*\" * i + \" \"* ((rows-i)*2) + \"*\"*i)"
   ]
  }
 ],
 "metadata": {
  "kernelspec": {
   "display_name": "Python 3.10.7 64-bit",
   "language": "python",
   "name": "python3"
  },
  "language_info": {
   "name": "python",
   "version": "3.10.7"
  },
  "orig_nbformat": 4,
  "vscode": {
   "interpreter": {
    "hash": "aee8b7b246df8f9039afb4144a1f6fd8d2ca17a180786b69acc140d282b71a49"
   }
  }
 },
 "nbformat": 4,
 "nbformat_minor": 2
}
